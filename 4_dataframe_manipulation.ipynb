{
  "nbformat": 4,
  "nbformat_minor": 0,
  "metadata": {
    "colab": {
      "provenance": [],
      "include_colab_link": true
    },
    "kernelspec": {
      "name": "python3",
      "display_name": "Python 3"
    },
    "language_info": {
      "name": "python"
    }
  },
  "cells": [
    {
      "cell_type": "markdown",
      "metadata": {
        "id": "view-in-github",
        "colab_type": "text"
      },
      "source": [
        "<a href=\"https://colab.research.google.com/github/yjl3403/stats_2025/blob/main/4_dataframe_manipulation.ipynb\" target=\"_parent\"><img src=\"https://colab.research.google.com/assets/colab-badge.svg\" alt=\"Open In Colab\"/></a>"
      ]
    },
    {
      "cell_type": "markdown",
      "source": [
        "#**🔖 Index operators loc[ ] & iloc[ ]**\n",
        "\n",
        "**원소 선택**\n",
        "* DataFrameObject.loc[row행인덱스, column열이름]\n",
        "* DataFrameObject.iloc[row행번호, column열번호]\n",
        "\n",
        "**범위 슬라이싱 활용**\n",
        "\n",
        "* DataFrameObject.iloc[시작인덱스:끝인덱스:슬라이싱간격]\n",
        "* The first colon : indicates that we're selecting all rows.\n",
        "* The second colon : indicates the step size, which is"
      ],
      "metadata": {
        "id": "9vQtLm4Xko9x"
      }
    },
    {
      "cell_type": "code",
      "source": [
        "import pandas as pd\n",
        "\n",
        "exam_data = {'Math':[90, 80, 70, 85], 'English':[98, 89, 95, 79],\n",
        "             'Music':[85, 95, 100, 100], 'Gym':[100,90,90, 88]}\n",
        "\n",
        "df = pd.DataFrame(exam_data, index = ['Simon', 'Emma', 'Mary', 'Louis'])\n",
        "\n",
        "print(df)\n",
        "print('\\n')\n",
        "\n",
        "df1 = df.iloc[::2]\n",
        "print(df1)\n",
        "print('\\n')\n",
        "\n",
        "df2 = df.iloc[0:3]\n",
        "print(df2)\n",
        "print('\\n')\n",
        "\n",
        "df3 = df.iloc[::-1]\n",
        "print(df3)"
      ],
      "metadata": {
        "colab": {
          "base_uri": "https://localhost:8080/"
        },
        "id": "JeCumVw_V6E-",
        "outputId": "6f890ecb-e6c6-42cb-962d-0d5d29675474"
      },
      "execution_count": null,
      "outputs": [
        {
          "output_type": "stream",
          "name": "stdout",
          "text": [
            "       Math  English  Music  Gym\n",
            "Simon    90       98     85  100\n",
            "Emma     80       89     95   90\n",
            "Mary     70       95    100   90\n",
            "Louis    85       79    100   88\n",
            "\n",
            "\n",
            "       Math  English  Music  Gym\n",
            "Simon    90       98     85  100\n",
            "Mary     70       95    100   90\n",
            "\n",
            "\n",
            "       Math  English  Music  Gym\n",
            "Simon    90       98     85  100\n",
            "Emma     80       89     95   90\n",
            "Mary     70       95    100   90\n",
            "\n",
            "\n",
            "       Math  English  Music  Gym\n",
            "Louis    85       79    100   88\n",
            "Mary     70       95    100   90\n",
            "Emma     80       89     95   90\n",
            "Simon    90       98     85  100\n"
          ]
        }
      ]
    },
    {
      "cell_type": "code",
      "execution_count": null,
      "metadata": {
        "id": "V9jDU8wpif2r",
        "colab": {
          "base_uri": "https://localhost:8080/"
        },
        "outputId": "c26e5b42-3eb3-402e-873e-aa983678c009"
      },
      "outputs": [
        {
          "output_type": "stream",
          "name": "stdout",
          "text": [
            "       Math  English  Music  Gym\n",
            "Simon    90       98     85  100\n",
            "Emma     80       89     95   90\n",
            "Mary     70       95    100   90\n",
            "Louis    85       79    100   88\n",
            "\n",
            "\n",
            "       Math  English  Music  Gym\n",
            "Simon    90       98     85  100\n",
            "Mary     70       95    100   90\n",
            "\n",
            "\n",
            "       Math  English  Music  Gym\n",
            "Simon    90       98     85  100\n",
            "Emma     80       89     95   90\n",
            "Mary     70       95    100   90\n",
            "\n",
            "\n",
            "       Math  English  Music  Gym\n",
            "Louis    85       79    100   88\n",
            "Mary     70       95    100   90\n",
            "Emma     80       89     95   90\n",
            "Simon    90       98     85  100\n"
          ]
        }
      ],
      "source": [
        "#@markdown  **🐹 Student Activity 8 of the previous class material-Extended2 ⤵️**\n",
        "\n",
        "#@markdown  **Choose rows 행 선택**\n",
        "\n",
        "#@markdown  **Index operator[ ] with integer location of the rows**\n",
        "\n",
        "import pandas as pd\n",
        "\n",
        "exam_data = {'Math':[90, 80, 70, 85], 'English':[98, 89, 95, 79],\n",
        "             'Music':[85, 95, 100, 100], 'Gym':[100,90,90, 88]}\n",
        "\n",
        "df = pd.DataFrame(exam_data, index = ['Simon', 'Emma', 'Mary', 'Louis'])\n",
        "print(df)\n",
        "print('\\n')\n",
        "\n",
        "df1 = df.iloc[::2]\n",
        "print(df1)\n",
        "print('\\n')\n",
        "\n",
        "df2 = df.iloc[0:3]\n",
        "print(df2)\n",
        "print('\\n')\n",
        "\n",
        "df3 = df.iloc[::-1]\n",
        "print(df3)"
      ]
    },
    {
      "cell_type": "markdown",
      "source": [
        "####<font color = 'blue'> 👀🐾 **데이터프레임 변환 Converting to basic data frame from dictionary data** 1️⃣ ⤵️"
      ],
      "metadata": {
        "id": "SIjwS-hcfe_d"
      }
    },
    {
      "cell_type": "markdown",
      "source": [
        "####<font color = 'blue'> 👀🐾 **행 인덱스 실행하기 set_index( )** 2️⃣  ⤵️\n",
        "  - 특정 열(column)을 데이터프레임의 행(row) 인덱스로 설정"
      ],
      "metadata": {
        "id": "4Je1IkN4ggZr"
      }
    },
    {
      "cell_type": "code",
      "source": [
        "exam_data = {'Name': ['Simon', 'Mathew', 'Andy', 'Louis'],\n",
        "             'Math': [90,80,70,85],\n",
        "             'English': [98,89,95,79],\n",
        "             'Music': [85,95,100,100],\n",
        "             'Physics': [100,90,90,88]}\n",
        "\n",
        "df = pd.DataFrame(exam_data)\n",
        "print(df)\n",
        "print('\\n')\n",
        "\n",
        "#'Name' column을 set_index() 함수를 사용하여 새로운 인덱스로 지정하고, df object에 변경 사항 반영; inplace=True means an immediate application without giving a new variable name.\n",
        "df.set_index('Name', inplace=True)\n",
        "print(df)"
      ],
      "metadata": {
        "colab": {
          "base_uri": "https://localhost:8080/"
        },
        "id": "Nt_KFE-1Wqdn",
        "outputId": "9a431ee5-ecb0-4923-987d-c8b8f957b6f9"
      },
      "execution_count": null,
      "outputs": [
        {
          "output_type": "stream",
          "name": "stdout",
          "text": [
            "     Name  Math  English  Music  Physics\n",
            "0   Simon    90       98     85      100\n",
            "1  Mathew    80       89     95       90\n",
            "2    Andy    70       95    100       90\n",
            "3   Louis    85       79    100       88\n",
            "\n",
            "\n",
            "        Math  English  Music  Physics\n",
            "Name                                 \n",
            "Simon     90       98     85      100\n",
            "Mathew    80       89     95       90\n",
            "Andy      70       95    100       90\n",
            "Louis     85       79    100       88\n"
          ]
        }
      ]
    },
    {
      "cell_type": "code",
      "source": [
        "exam_data = {'Name' : ['Simon', 'Mathew', 'Andy','Louis'],\n",
        "             'Math':[90,80,70,85],\n",
        "             'English':[98,89,95,79],\n",
        "             'Music':[85,95,100,100],\n",
        "             'Physics':[100,90,90,88]}\n",
        "\n",
        "df = pd.DataFrame(exam_data)\n",
        "print(df)\n",
        "print('\\n')\n",
        "\n",
        "#'Name' column을 set_index() 함수를 사용하여 새로운 인덱스로 지정하고, df object에 변경 사항 반영; inplace=True means an immediate application without giving a new variable name.\n",
        "df.set_index('Name', inplace=True)\n",
        "print(df)"
      ],
      "metadata": {
        "colab": {
          "base_uri": "https://localhost:8080/"
        },
        "id": "ZW1EbUFXYT0_",
        "outputId": "c2a33ac1-0225-4db7-8a67-1d61dc0cf80e"
      },
      "execution_count": null,
      "outputs": [
        {
          "output_type": "stream",
          "name": "stdout",
          "text": [
            "     Name  Math  English  Music  Physics\n",
            "0   Simon    90       98     85      100\n",
            "1  Mathew    80       89     95       90\n",
            "2    Andy    70       95    100       90\n",
            "3   Louis    85       79    100       88\n",
            "\n",
            "\n",
            "        Math  English  Music  Physics\n",
            "Name                                 \n",
            "Simon     90       98     85      100\n",
            "Mathew    80       89     95       90\n",
            "Andy      70       95    100       90\n",
            "Louis     85       79    100       88\n"
          ]
        }
      ]
    },
    {
      "cell_type": "code",
      "source": [
        "exam_data = {'Math':[90,80,75,85],\n",
        "             'Korean':[100,85,90,75],\n",
        "             'English':[95,100,70,85]}\n",
        "\n",
        "df = pd.DataFrame(exam_data, index = ['Yujin', 'Nicholas', 'Yuma', 'EJ'])\n",
        "\n",
        "print(df)\n",
        "\n",
        "print('\\n')\n",
        "\n"
      ],
      "metadata": {
        "colab": {
          "base_uri": "https://localhost:8080/"
        },
        "id": "ZxLnicuoY0lc",
        "outputId": "cb426060-dbd7-4b07-b476-681234dee5c1"
      },
      "execution_count": null,
      "outputs": [
        {
          "output_type": "stream",
          "name": "stdout",
          "text": [
            "          Math  Korean  English\n",
            "Yujin       90     100       95\n",
            "Nicholas    80      85      100\n",
            "Yuma        75      90       70\n",
            "EJ          85      75       85\n",
            "\n",
            "\n"
          ]
        }
      ]
    },
    {
      "cell_type": "code",
      "source": [
        "exam_data = {'Name':['Yujin', 'Nicholas', 'Yuma', 'EJ'],\n",
        "             'Math':[90,80,75,85],\n",
        "             'Korean':[100,85,90,75],\n",
        "             'English':[95,100,70,85]}\n",
        "\n",
        "df = pd.DataFrame(exam_data)\n",
        "print(df)\n",
        "print('\\n')\n",
        "df.set_index('Name', inplace=True)\n",
        "print(df)"
      ],
      "metadata": {
        "colab": {
          "base_uri": "https://localhost:8080/"
        },
        "id": "BX7EFYnfZ6wI",
        "outputId": "7cf02c42-1ca4-4126-a02b-7c893a04ce97"
      },
      "execution_count": null,
      "outputs": [
        {
          "output_type": "stream",
          "name": "stdout",
          "text": [
            "       Name  Math  Korean  English\n",
            "0     Yujin    90     100       95\n",
            "1  Nicholas    80      85      100\n",
            "2      Yuma    75      90       70\n",
            "3        EJ    85      75       85\n",
            "\n",
            "\n",
            "          Math  Korean  English\n",
            "Name                           \n",
            "Yujin       90     100       95\n",
            "Nicholas    80      85      100\n",
            "Yuma        75      90       70\n",
            "EJ          85      75       85\n"
          ]
        }
      ]
    },
    {
      "cell_type": "code",
      "source": [
        "#-*- coding: utf-8 -*-\n",
        "\n",
        "import pandas as pd\n",
        "\n",
        "#DataFrame( ) 함수로 사전형 데이터를 2차원 데이터프레임으로 변환, 변수 df에 저장.\n",
        "#주의: 학생들 이름이 있는 Name column & 각 과목 성적 columns 섞여 있음.\n",
        "\n",
        "exam_data = {'Name' : ['Simon', 'Mathew', 'Andy','Louis'],\n",
        "             'Math':[90,80,70,85],\n",
        "             'English':[98,89,95,79],\n",
        "             'Music':[85,95,100,100],\n",
        "             'Physics':[100,90,90,88]}\n",
        "\n",
        "df = pd.DataFrame(exam_data)\n",
        "print(df)\n",
        "print('\\n')\n",
        "\n",
        "#'Name' column을 set_index() 함수를 사용하여 새로운 인덱스로 지정하고, df object에 변경 사항 반영; inplace=True means an immediate application without giving a new variable name.\n",
        "df.set_index('Name', inplace=True)\n",
        "print(df)\n",
        "\n"
      ],
      "metadata": {
        "colab": {
          "base_uri": "https://localhost:8080/"
        },
        "id": "Z-jsuFRxnCvP",
        "outputId": "5d614716-a49d-4ab7-e18a-53dd7f72d3a0"
      },
      "execution_count": null,
      "outputs": [
        {
          "output_type": "stream",
          "name": "stdout",
          "text": [
            "     Name  Math  English  Music  Physics\n",
            "0   Simon    90       98     85      100\n",
            "1  Mathew    80       89     95       90\n",
            "2    Andy    70       95    100       90\n",
            "3   Louis    85       79    100       88\n",
            "\n",
            "\n",
            "        Math  English  Music  Physics\n",
            "Name                                 \n",
            "Simon     90       98     85      100\n",
            "Mathew    80       89     95       90\n",
            "Andy      70       95    100       90\n",
            "Louis     85       79    100       88\n"
          ]
        }
      ]
    },
    {
      "cell_type": "markdown",
      "source": [
        "####<font color = 'red'> 👀🐾 **데이터프레임 변환 연습 계속 Converting to basic data frame from dictionary data** 1 ⤵️"
      ],
      "metadata": {
        "id": "RNQXdqeBhejh"
      }
    },
    {
      "cell_type": "code",
      "source": [
        "dict_data = {'c0' : [1,2,3],\n",
        "             'c1' : [4,5,6],\n",
        "             'c2' : [7,8,9],\n",
        "             'c3' : [10,11,12],\n",
        "             'c4' : [13,14,15]}\n",
        "\n",
        "df = pd.DataFrame(dict_data)\n",
        "print(df)\n",
        "print('\\n')"
      ],
      "metadata": {
        "colab": {
          "base_uri": "https://localhost:8080/"
        },
        "id": "Dt1R5m_iamOZ",
        "outputId": "28a86790-82aa-4925-d3b2-8a2dfd38c4c4"
      },
      "execution_count": null,
      "outputs": [
        {
          "output_type": "stream",
          "name": "stdout",
          "text": [
            "   c0  c1  c2  c3  c4\n",
            "0   1   4   7  10  13\n",
            "1   2   5   8  11  14\n",
            "2   3   6   9  12  15\n",
            "\n",
            "\n"
          ]
        }
      ]
    },
    {
      "cell_type": "code",
      "source": [
        "#-*- coding: utf-8 -*-\n",
        "\n",
        "import pandas as pd\n",
        "\n",
        "#DataFrame( ) 함수로 데이터프레임 변환, 변수 df에 저장\n",
        "\n",
        "dict_data = {'c0' : [1,2,3],\n",
        "             'c1' : [4,5,6],\n",
        "             'c2' : [7,8,9],\n",
        "             'c3' : [10,11,12],\n",
        "             'c4' : [13,14,15]}\n",
        "\n",
        "df = pd.DataFrame(dict_data)\n",
        "print(df)\n",
        "print('\\n')\n"
      ],
      "metadata": {
        "id": "iwKgI8a9jBhD",
        "outputId": "f23b5ce3-a24b-463a-af92-3e533334c13a",
        "colab": {
          "base_uri": "https://localhost:8080/"
        }
      },
      "execution_count": null,
      "outputs": [
        {
          "output_type": "stream",
          "name": "stdout",
          "text": [
            "   c0  c1  c2  c3  c4\n",
            "0   1   4   7  10  13\n",
            "1   2   5   8  11  14\n",
            "2   3   6   9  12  15\n",
            "\n",
            "\n"
          ]
        }
      ]
    },
    {
      "cell_type": "markdown",
      "source": [
        "####<font color = 'red'> 👀🐾 **행 인덱스 실행하기 set_index( ) 2-1** ⤵️"
      ],
      "metadata": {
        "id": "ksvobzzXifwH"
      }
    },
    {
      "cell_type": "code",
      "source": [
        "#Dictionary데이터를 프레임으로 변환하며, 행 인덱스를 'r0', 'r1', 'r2'로 재지정\n",
        "\n",
        "df = pd.DataFrame(dict_data, index=['r0', 'r1', 'r2'])\n",
        "print(df)\n",
        "print('\\n')"
      ],
      "metadata": {
        "id": "X2ZroghHjCTO",
        "outputId": "011bba76-4e43-4d0c-a7a6-ab890c5bbf83",
        "colab": {
          "base_uri": "https://localhost:8080/"
        }
      },
      "execution_count": null,
      "outputs": [
        {
          "output_type": "stream",
          "name": "stdout",
          "text": [
            "    c0  c1  c2  c3  c4\n",
            "r0   1   4   7  10  13\n",
            "r1   2   5   8  11  14\n",
            "r2   3   6   9  12  15\n",
            "\n",
            "\n"
          ]
        }
      ]
    },
    {
      "cell_type": "markdown",
      "source": [
        "####<font color = 'red'> 👀🐾 **#행(row) 인덱스 재배열 reindex( ) 2-2** ⤵️"
      ],
      "metadata": {
        "id": "mtUZ-8d_kF9Y"
      }
    },
    {
      "cell_type": "code",
      "source": [
        "#행 인덱스를 [r0, r1, r2, r3, r4]로 재지정\n",
        "new_index = ['r0','r1','r2','r3','r4']\n",
        "ndf = df.reindex(new_index)\n",
        "print(ndf)\n"
      ],
      "metadata": {
        "id": "zWfcDKHmj1s3",
        "outputId": "aca27baf-ae98-4a12-a4b4-367177f60896",
        "colab": {
          "base_uri": "https://localhost:8080/"
        }
      },
      "execution_count": null,
      "outputs": [
        {
          "output_type": "stream",
          "name": "stdout",
          "text": [
            "    c0  c1  c2  c3  c4\n",
            "r0 NaN NaN NaN NaN NaN\n",
            "r1 NaN NaN NaN NaN NaN\n",
            "r2 NaN NaN NaN NaN NaN\n",
            "r3 NaN NaN NaN NaN NaN\n",
            "r4 NaN NaN NaN NaN NaN\n"
          ]
        }
      ]
    },
    {
      "cell_type": "markdown",
      "source": [
        "####<font color = 'red'> 👀🐾 **#reindex ( )로 발생한 NaN 값을 fill_value = 0 을 사용하여 NaN을 숫자 0으로 채우기 3** ⤵️"
      ],
      "metadata": {
        "id": "qC5KtgyDimVr"
      }
    },
    {
      "cell_type": "code",
      "source": [
        "new_index = ['r0','r1','r2','r3','r4']\n",
        "ndf2 = df.reindex(new_index, fill_value=0)\n",
        "print(ndf2)\n",
        "print('\\n')"
      ],
      "metadata": {
        "id": "p9ZCzNexko90",
        "outputId": "6df28ef8-dbf4-4aa4-c968-d5f792e9d5a6",
        "colab": {
          "base_uri": "https://localhost:8080/"
        }
      },
      "execution_count": null,
      "outputs": [
        {
          "output_type": "stream",
          "name": "stdout",
          "text": [
            "    c0  c1  c2  c3  c4\n",
            "r0   1   4   7  10  13\n",
            "r1   2   5   8  11  14\n",
            "r2   3   6   9  12  15\n",
            "r3   0   0   0   0   0\n",
            "r4   0   0   0   0   0\n",
            "\n",
            "\n"
          ]
        }
      ]
    },
    {
      "cell_type": "markdown",
      "source": [
        "####<font color = 'red'> 👀🐾 **행(row) 인덱스 초기화 reset_index( ) 4** ⤵️"
      ],
      "metadata": {
        "id": "CxRo73HeivdL"
      }
    },
    {
      "cell_type": "code",
      "source": [
        "ndf2=df.reset_index()\n",
        "print(ndf2)"
      ],
      "metadata": {
        "id": "vNzfrK9vk5_c",
        "outputId": "605504c6-0584-450b-db8c-8f336e69d3c9",
        "colab": {
          "base_uri": "https://localhost:8080/"
        }
      },
      "execution_count": null,
      "outputs": [
        {
          "output_type": "stream",
          "name": "stdout",
          "text": [
            "  index  c0  c1  c2  c3  c4\n",
            "0    r0   1   4   7  10  13\n",
            "1    r1   2   5   8  11  14\n",
            "2    r2   3   6   9  12  15\n"
          ]
        }
      ]
    },
    {
      "cell_type": "markdown",
      "source": [
        "####<font color = 'red'> 👀🐾 **행(row) 인덱스를 기준으로 데이터 정렬 sort_index( ) 5** ⤵️"
      ],
      "metadata": {
        "id": "8bbQ_hJqiqId"
      }
    },
    {
      "cell_type": "code",
      "source": [
        "ndf3 = df.sort_index()\n",
        "print(ndf3)"
      ],
      "metadata": {
        "id": "hQS330XHlDos",
        "outputId": "e37c09f2-054a-4d97-d625-69068bdc1cca",
        "colab": {
          "base_uri": "https://localhost:8080/"
        }
      },
      "execution_count": null,
      "outputs": [
        {
          "output_type": "stream",
          "name": "stdout",
          "text": [
            "    c0  c1  c2  c3  c4\n",
            "r0   1   4   7  10  13\n",
            "r1   2   5   8  11  14\n",
            "r2   3   6   9  12  15\n"
          ]
        }
      ]
    },
    {
      "cell_type": "markdown",
      "source": [
        "####<font color = 'red'> 👀🐾 **행(row) 인덱스를 기준으로 데이터를 내림차순으로 정렬하려면 sort_index(ascending=False) & 오름차순으로 정렬하려면 sort_index(ascending=True) 5** ⤵️"
      ],
      "metadata": {
        "id": "e5r3mMBfmF3Z"
      }
    },
    {
      "cell_type": "code",
      "source": [
        "ndf4=df.sort_index(ascending=False)\n",
        "print(ndf4)"
      ],
      "metadata": {
        "id": "v1is4A6rll6U",
        "outputId": "583532a3-228a-4407-c8ec-0ddf60d8db1d",
        "colab": {
          "base_uri": "https://localhost:8080/"
        }
      },
      "execution_count": null,
      "outputs": [
        {
          "output_type": "stream",
          "name": "stdout",
          "text": [
            "    c0  c1  c2  c3  c4\n",
            "r2   3   6   9  12  15\n",
            "r1   2   5   8  11  14\n",
            "r0   1   4   7  10  13\n"
          ]
        }
      ]
    },
    {
      "cell_type": "markdown",
      "source": [
        "<font color = 'red'> **👀🐾 특정 열의 데이터 값을 기준으로 데이터프레임 내림차순/오름차순으로 정렬하기 행(row) 인덱스를 기준으로 데이터를 내림차순으로 정렬하려면 sort_vales(by='cX', ascending=False) & 오름차순으로 정렬하려면 sort_vales(by='cX', ascending=True) 6** ⤵️"
      ],
      "metadata": {
        "id": "ifFCBAm_fyHF"
      }
    },
    {
      "cell_type": "code",
      "source": [
        "ndf5=df.sort_values(by='c1', ascending=False)\n",
        "print(ndf5)\n",
        "print('\\n')\n",
        "\n",
        "ndf6=df.sort_values(by='c1', ascending=True)\n",
        "print(ndf6)"
      ],
      "metadata": {
        "id": "KgJinqAYgQVf",
        "outputId": "865fcfe1-30e6-456c-b8a0-ebaef6fc6f2d",
        "colab": {
          "base_uri": "https://localhost:8080/"
        }
      },
      "execution_count": null,
      "outputs": [
        {
          "output_type": "stream",
          "name": "stdout",
          "text": [
            "    c0  c1  c2  c3  c4\n",
            "r2   3   6   9  12  15\n",
            "r1   2   5   8  11  14\n",
            "r0   1   4   7  10  13\n",
            "\n",
            "\n",
            "    c0  c1  c2  c3  c4\n",
            "r0   1   4   7  10  13\n",
            "r1   2   5   8  11  14\n",
            "r2   3   6   9  12  15\n"
          ]
        }
      ]
    }
  ]
}